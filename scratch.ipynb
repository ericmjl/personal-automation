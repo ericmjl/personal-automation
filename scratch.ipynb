{
 "cells": [
  {
   "cell_type": "code",
   "execution_count": null,
   "metadata": {},
   "outputs": [],
   "source": [
    "# Notebook for prototyping \n",
    "%load_ext autoreload \n",
    "%autoreload 2"
   ]
  },
  {
   "cell_type": "code",
   "execution_count": null,
   "metadata": {},
   "outputs": [],
   "source": [
    "from personal_automation.movie import stitch\n",
    "from pathlib import Path \n",
    "\n",
    "movies = sorted(Path(\"/Users/ericmjl/Dropbox/vlog/20220828-church\").glob(\"*.MP4\"))\n",
    "\n",
    "from moviepy.editor import VideoFileClip, concatenate_videoclips\n",
    "\n",
    "clip1 = VideoFileClip(str(movies[0]))\n",
    "clip2 = VideoFileClip(str(movies[1]))\n",
    "\n",
    "stitched = concatenate_videoclips([clip1, clip2])\n",
    "# stitched = stitch([movies[0], movies[1]])\n",
    "stitched.write_videofile(\"./dump.mp4\")"
   ]
  },
  {
   "cell_type": "code",
   "execution_count": null,
   "metadata": {},
   "outputs": [],
   "source": [
    "from personal_automation.audio import stitch \n",
    "\n",
    "list(Path(\"/Users/ericmjl/Dropbox/sgbs-training-audio/20221023/mic1/\").glob(\"*.WAV\"))"
   ]
  },
  {
   "cell_type": "code",
   "execution_count": null,
   "metadata": {},
   "outputs": [],
   "source": [
    "from pydub import AudioSegment"
   ]
  },
  {
   "cell_type": "code",
   "execution_count": null,
   "metadata": {},
   "outputs": [],
   "source": [
    "audio1 = AudioSegment.from_wav(\"/Users/ericmjl/Dropbox/sgbs-training-audio/20221023/mic1/DJI_01_20221023_145953.WAV\")\n",
    "audio2 = AudioSegment.from_wav(\"/Users/ericmjl/Dropbox/sgbs-training-audio/20221023/mic1/DJI_02_20221023_153057.WAV\")\n",
    "audio3 = AudioSegment.from_wav(\"/Users/ericmjl/Dropbox/sgbs-training-audio/20221023/mic1/DJI_03_20221023_160201.WAV\")"
   ]
  },
  {
   "cell_type": "code",
   "execution_count": null,
   "metadata": {},
   "outputs": [],
   "source": [
    "audio4 = AudioSegment.from_wav(\"/Users/ericmjl/Dropbox/sgbs-training-audio/20221023/mic1/DJI_04_20221023_163305.WAV\")\n"
   ]
  },
  {
   "cell_type": "code",
   "execution_count": null,
   "metadata": {},
   "outputs": [],
   "source": [
    "new_audio = sum([audio1, audio2, audio3, audio4])\n",
    "new_audio"
   ]
  },
  {
   "cell_type": "code",
   "execution_count": null,
   "metadata": {},
   "outputs": [],
   "source": [
    "type(new_audio)"
   ]
  },
  {
   "cell_type": "code",
   "execution_count": null,
   "metadata": {},
   "outputs": [],
   "source": [
    "new_audio = audio1 + audio2 + audio3 + audio4\n",
    "new_audio"
   ]
  }
 ],
 "metadata": {
  "kernelspec": {
   "display_name": "Python 3.10.6 ('personal-automation')",
   "language": "python",
   "name": "python3"
  },
  "language_info": {
   "codemirror_mode": {
    "name": "ipython",
    "version": 3
   },
   "file_extension": ".py",
   "mimetype": "text/x-python",
   "name": "python",
   "nbconvert_exporter": "python",
   "pygments_lexer": "ipython3",
   "version": "3.10.6"
  },
  "vscode": {
   "interpreter": {
    "hash": "883535825703dcc0827f37fad6d42aa72115943e3fd9714298d24791e90a2485"
   }
  }
 },
 "nbformat": 4,
 "nbformat_minor": 2
}
